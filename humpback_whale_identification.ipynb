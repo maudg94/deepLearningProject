{
  "nbformat": 4,
  "nbformat_minor": 0,
  "metadata": {
    "colab": {
      "name": "humpback_whale_identification.ipynb",
      "provenance": [],
      "collapsed_sections": []
    },
    "kernelspec": {
      "name": "python3",
      "display_name": "Python 3"
    },
    "language_info": {
      "name": "python"
    },
    "accelerator": "GPU"
  },
  "cells": [
    {
      "cell_type": "code",
      "source": [
        "NUMBER_SAMPLE = 5000"
      ],
      "metadata": {
        "id": "MQ6658i0we1T"
      },
      "execution_count": 519,
      "outputs": []
    },
    {
      "cell_type": "code",
      "source": [
        "# Update kaggle to be able to fully and correctly download the 5GB dataset\n",
        "!pip install --upgrade --force-reinstall --no-deps kaggle"
      ],
      "metadata": {
        "colab": {
          "base_uri": "https://localhost:8080/"
        },
        "id": "XWC9uKDZpuD0",
        "outputId": "7db8e007-cce1-4ecb-9a3c-1a184b333a49"
      },
      "execution_count": 211,
      "outputs": [
        {
          "output_type": "stream",
          "name": "stdout",
          "text": [
            "Collecting kaggle\n",
            "  Using cached kaggle-1.5.12-py3-none-any.whl\n",
            "Installing collected packages: kaggle\n",
            "  Attempting uninstall: kaggle\n",
            "    Found existing installation: kaggle 1.5.12\n",
            "    Uninstalling kaggle-1.5.12:\n",
            "      Successfully uninstalled kaggle-1.5.12\n",
            "Successfully installed kaggle-1.5.12\n"
          ]
        }
      ]
    },
    {
      "cell_type": "code",
      "source": [
        "from google.colab import drive\n",
        "drive.mount('/content/drive')"
      ],
      "metadata": {
        "colab": {
          "base_uri": "https://localhost:8080/"
        },
        "id": "69i1zqiCnKUg",
        "outputId": "d7d0935d-cf76-4c2e-e1dc-e1605755bbc8"
      },
      "execution_count": 212,
      "outputs": [
        {
          "output_type": "stream",
          "name": "stdout",
          "text": [
            "Drive already mounted at /content/drive; to attempt to forcibly remount, call drive.mount(\"/content/drive\", force_remount=True).\n"
          ]
        }
      ]
    },
    {
      "cell_type": "code",
      "source": [
        "!mkdir data\n",
        "!mkdir /root/.kaggle\n",
        "!mv drive/MyDrive/deep_learning/kaggle.json /root/.kaggle/kaggle.json\n",
        "!sudo chmod 600 /root/.kaggle/kaggle.json"
      ],
      "metadata": {
        "id": "YY_bRL2yndAE",
        "colab": {
          "base_uri": "https://localhost:8080/"
        },
        "outputId": "f37f7206-c56f-463e-ebde-1c9d7b84ad40"
      },
      "execution_count": 213,
      "outputs": [
        {
          "output_type": "stream",
          "name": "stdout",
          "text": [
            "mkdir: cannot create directory ‘/root/.kaggle’: File exists\n"
          ]
        }
      ]
    },
    {
      "cell_type": "code",
      "source": [
        "!kaggle competitions download -c humpback-whale-identification -p data"
      ],
      "metadata": {
        "colab": {
          "base_uri": "https://localhost:8080/"
        },
        "id": "p7Jwv8xfnrSA",
        "outputId": "f40cce79-8b3e-4498-d31b-dd7f25a67936"
      },
      "execution_count": 214,
      "outputs": [
        {
          "output_type": "stream",
          "name": "stdout",
          "text": [
            "Downloading humpback-whale-identification.zip to data\n",
            " 28% 1.53G/5.51G [00:20<00:53, 79.2MB/s]\n",
            "User cancelled operation\n",
            "Error in atexit._run_exitfuncs:\n",
            "Traceback (most recent call last):\n",
            "  File \"/usr/local/lib/python3.7/dist-packages/tqdm/_monitor.py\", line 44, in exit\n",
            "    self.join()\n",
            "  File \"/usr/lib/python3.7/threading.py\", line 1044, in join\n",
            "    self._wait_for_tstate_lock()\n",
            "  File \"/usr/lib/python3.7/threading.py\", line 1060, in _wait_for_tstate_lock\n",
            "    elif lock.acquire(block, timeout):\n",
            "KeyboardInterrupt\n"
          ]
        }
      ]
    },
    {
      "cell_type": "code",
      "source": [
        "!unzip data/humpback-whale-identification.zip"
      ],
      "metadata": {
        "id": "pfb7iqWMqYD2",
        "colab": {
          "base_uri": "https://localhost:8080/"
        },
        "outputId": "59bcee34-98c2-47ed-b13b-32198e07d606"
      },
      "execution_count": 215,
      "outputs": [
        {
          "output_type": "stream",
          "name": "stdout",
          "text": [
            "Archive:  data/humpback-whale-identification.zip\n",
            "  End-of-central-directory signature not found.  Either this file is not\n",
            "  a zipfile, or it constitutes one disk of a multi-part archive.  In the\n",
            "  latter case the central directory and zipfile comment will be found on\n",
            "  the last disk(s) of this archive.\n",
            "unzip:  cannot find zipfile directory in one of data/humpback-whale-identification.zip or\n",
            "        data/humpback-whale-identification.zip.zip, and cannot find data/humpback-whale-identification.zip.ZIP, period.\n"
          ]
        }
      ]
    },
    {
      "cell_type": "code",
      "source": [
        "!rm -rf data/humpback-whale-identification.zip"
      ],
      "metadata": {
        "id": "nYKdZsDZrCgX"
      },
      "execution_count": 216,
      "outputs": []
    },
    {
      "cell_type": "code",
      "source": [
        "!rm -rf data"
      ],
      "metadata": {
        "id": "aArQNb2_rEM1"
      },
      "execution_count": 217,
      "outputs": []
    },
    {
      "cell_type": "code",
      "execution_count": 520,
      "metadata": {
        "id": "IN6xKn1Dbli6"
      },
      "outputs": [],
      "source": [
        "import numpy as np # linear algebra\n",
        "import pandas as pd # data processing, CSV file I/O (e.g. pd.read_csv)\n",
        "import matplotlib.pyplot as plt\n",
        "import seaborn as sns\n",
        "\n",
        "# import warnings\n",
        "import warnings\n",
        "# filter warnings\n",
        "warnings.filterwarnings('ignore')"
      ]
    },
    {
      "cell_type": "code",
      "source": [
        "complete_train = pd.read_csv('train.csv')\n",
        "\n",
        "sample_train = complete_train.head(NUMBER_SAMPLE)"
      ],
      "metadata": {
        "id": "OmWIFipIjSTa"
      },
      "execution_count": 521,
      "outputs": []
    },
    {
      "cell_type": "code",
      "source": [
        "# Reading the csv file for train dataset\n",
        "train = sample_train"
      ],
      "metadata": {
        "id": "7f55otInjT-V"
      },
      "execution_count": 522,
      "outputs": []
    },
    {
      "cell_type": "code",
      "source": [
        "# The info() method prints information about the DataFrame.\n",
        "# The information contains the number of columns, column labels, column data types,\n",
        "# memory usage, range index, and the number of cells in each column (non-null values).\n",
        "train.info()"
      ],
      "metadata": {
        "id": "1hDWjxe7jVyn",
        "colab": {
          "base_uri": "https://localhost:8080/"
        },
        "outputId": "5c9a349f-6628-469b-a63e-501891941776"
      },
      "execution_count": 523,
      "outputs": [
        {
          "output_type": "stream",
          "name": "stdout",
          "text": [
            "<class 'pandas.core.frame.DataFrame'>\n",
            "RangeIndex: 5000 entries, 0 to 4999\n",
            "Data columns (total 2 columns):\n",
            " #   Column  Non-Null Count  Dtype \n",
            "---  ------  --------------  ----- \n",
            " 0   Image   5000 non-null   object\n",
            " 1   Id      5000 non-null   object\n",
            "dtypes: object(2)\n",
            "memory usage: 78.2+ KB\n"
          ]
        }
      ]
    },
    {
      "cell_type": "code",
      "source": [
        "# The describe() method is used for calculating some statistical data like percentile,\n",
        "# mean and std of the numerical values of the Series or DataFrame.\n",
        "# It analyzes both numeric and object series and also the DataFrame column sets of mixed data types.\n",
        "train.describe()"
      ],
      "metadata": {
        "id": "JeQ9wyjDjVvn",
        "colab": {
          "base_uri": "https://localhost:8080/",
          "height": 174
        },
        "outputId": "e763ab98-3749-4662-bbf3-599dccd7186a"
      },
      "execution_count": 524,
      "outputs": [
        {
          "output_type": "execute_result",
          "data": {
            "text/html": [
              "\n",
              "  <div id=\"df-b77c7b40-07d0-438a-b9c2-598cdb3203cf\">\n",
              "    <div class=\"colab-df-container\">\n",
              "      <div>\n",
              "<style scoped>\n",
              "    .dataframe tbody tr th:only-of-type {\n",
              "        vertical-align: middle;\n",
              "    }\n",
              "\n",
              "    .dataframe tbody tr th {\n",
              "        vertical-align: top;\n",
              "    }\n",
              "\n",
              "    .dataframe thead th {\n",
              "        text-align: right;\n",
              "    }\n",
              "</style>\n",
              "<table border=\"1\" class=\"dataframe\">\n",
              "  <thead>\n",
              "    <tr style=\"text-align: right;\">\n",
              "      <th></th>\n",
              "      <th>Image</th>\n",
              "      <th>Id</th>\n",
              "    </tr>\n",
              "  </thead>\n",
              "  <tbody>\n",
              "    <tr>\n",
              "      <th>count</th>\n",
              "      <td>5000</td>\n",
              "      <td>5000</td>\n",
              "    </tr>\n",
              "    <tr>\n",
              "      <th>unique</th>\n",
              "      <td>5000</td>\n",
              "      <td>1961</td>\n",
              "    </tr>\n",
              "    <tr>\n",
              "      <th>top</th>\n",
              "      <td>0000e88ab.jpg</td>\n",
              "      <td>new_whale</td>\n",
              "    </tr>\n",
              "    <tr>\n",
              "      <th>freq</th>\n",
              "      <td>1</td>\n",
              "      <td>1943</td>\n",
              "    </tr>\n",
              "  </tbody>\n",
              "</table>\n",
              "</div>\n",
              "      <button class=\"colab-df-convert\" onclick=\"convertToInteractive('df-b77c7b40-07d0-438a-b9c2-598cdb3203cf')\"\n",
              "              title=\"Convert this dataframe to an interactive table.\"\n",
              "              style=\"display:none;\">\n",
              "        \n",
              "  <svg xmlns=\"http://www.w3.org/2000/svg\" height=\"24px\"viewBox=\"0 0 24 24\"\n",
              "       width=\"24px\">\n",
              "    <path d=\"M0 0h24v24H0V0z\" fill=\"none\"/>\n",
              "    <path d=\"M18.56 5.44l.94 2.06.94-2.06 2.06-.94-2.06-.94-.94-2.06-.94 2.06-2.06.94zm-11 1L8.5 8.5l.94-2.06 2.06-.94-2.06-.94L8.5 2.5l-.94 2.06-2.06.94zm10 10l.94 2.06.94-2.06 2.06-.94-2.06-.94-.94-2.06-.94 2.06-2.06.94z\"/><path d=\"M17.41 7.96l-1.37-1.37c-.4-.4-.92-.59-1.43-.59-.52 0-1.04.2-1.43.59L10.3 9.45l-7.72 7.72c-.78.78-.78 2.05 0 2.83L4 21.41c.39.39.9.59 1.41.59.51 0 1.02-.2 1.41-.59l7.78-7.78 2.81-2.81c.8-.78.8-2.07 0-2.86zM5.41 20L4 18.59l7.72-7.72 1.47 1.35L5.41 20z\"/>\n",
              "  </svg>\n",
              "      </button>\n",
              "      \n",
              "  <style>\n",
              "    .colab-df-container {\n",
              "      display:flex;\n",
              "      flex-wrap:wrap;\n",
              "      gap: 12px;\n",
              "    }\n",
              "\n",
              "    .colab-df-convert {\n",
              "      background-color: #E8F0FE;\n",
              "      border: none;\n",
              "      border-radius: 50%;\n",
              "      cursor: pointer;\n",
              "      display: none;\n",
              "      fill: #1967D2;\n",
              "      height: 32px;\n",
              "      padding: 0 0 0 0;\n",
              "      width: 32px;\n",
              "    }\n",
              "\n",
              "    .colab-df-convert:hover {\n",
              "      background-color: #E2EBFA;\n",
              "      box-shadow: 0px 1px 2px rgba(60, 64, 67, 0.3), 0px 1px 3px 1px rgba(60, 64, 67, 0.15);\n",
              "      fill: #174EA6;\n",
              "    }\n",
              "\n",
              "    [theme=dark] .colab-df-convert {\n",
              "      background-color: #3B4455;\n",
              "      fill: #D2E3FC;\n",
              "    }\n",
              "\n",
              "    [theme=dark] .colab-df-convert:hover {\n",
              "      background-color: #434B5C;\n",
              "      box-shadow: 0px 1px 3px 1px rgba(0, 0, 0, 0.15);\n",
              "      filter: drop-shadow(0px 1px 2px rgba(0, 0, 0, 0.3));\n",
              "      fill: #FFFFFF;\n",
              "    }\n",
              "  </style>\n",
              "\n",
              "      <script>\n",
              "        const buttonEl =\n",
              "          document.querySelector('#df-b77c7b40-07d0-438a-b9c2-598cdb3203cf button.colab-df-convert');\n",
              "        buttonEl.style.display =\n",
              "          google.colab.kernel.accessAllowed ? 'block' : 'none';\n",
              "\n",
              "        async function convertToInteractive(key) {\n",
              "          const element = document.querySelector('#df-b77c7b40-07d0-438a-b9c2-598cdb3203cf');\n",
              "          const dataTable =\n",
              "            await google.colab.kernel.invokeFunction('convertToInteractive',\n",
              "                                                     [key], {});\n",
              "          if (!dataTable) return;\n",
              "\n",
              "          const docLinkHtml = 'Like what you see? Visit the ' +\n",
              "            '<a target=\"_blank\" href=https://colab.research.google.com/notebooks/data_table.ipynb>data table notebook</a>'\n",
              "            + ' to learn more about interactive tables.';\n",
              "          element.innerHTML = '';\n",
              "          dataTable['output_type'] = 'display_data';\n",
              "          await google.colab.output.renderOutput(dataTable, element);\n",
              "          const docLink = document.createElement('div');\n",
              "          docLink.innerHTML = docLinkHtml;\n",
              "          element.appendChild(docLink);\n",
              "        }\n",
              "      </script>\n",
              "    </div>\n",
              "  </div>\n",
              "  "
            ],
            "text/plain": [
              "                Image         Id\n",
              "count            5000       5000\n",
              "unique           5000       1961\n",
              "top     0000e88ab.jpg  new_whale\n",
              "freq                1       1943"
            ]
          },
          "metadata": {},
          "execution_count": 524
        }
      ]
    },
    {
      "cell_type": "code",
      "source": [
        "# shape gives number of rows and columns in a tuple\n",
        "train.shape"
      ],
      "metadata": {
        "id": "6Y82Z5vhjVsW",
        "colab": {
          "base_uri": "https://localhost:8080/"
        },
        "outputId": "eb9bde80-7a82-4485-8f8a-ec25ed73dd2b"
      },
      "execution_count": 525,
      "outputs": [
        {
          "output_type": "execute_result",
          "data": {
            "text/plain": [
              "(5000, 2)"
            ]
          },
          "metadata": {},
          "execution_count": 525
        }
      ]
    },
    {
      "cell_type": "code",
      "source": [
        "# head funtion gives the first 5 rows of datasets\n",
        "train.head()"
      ],
      "metadata": {
        "id": "voIvGtcijVos",
        "colab": {
          "base_uri": "https://localhost:8080/",
          "height": 206
        },
        "outputId": "a18807ea-765f-47c7-df43-08a6c8d2fb0b"
      },
      "execution_count": 526,
      "outputs": [
        {
          "output_type": "execute_result",
          "data": {
            "text/html": [
              "\n",
              "  <div id=\"df-26bc4ea1-56d3-4b03-bbab-60d4688c64b6\">\n",
              "    <div class=\"colab-df-container\">\n",
              "      <div>\n",
              "<style scoped>\n",
              "    .dataframe tbody tr th:only-of-type {\n",
              "        vertical-align: middle;\n",
              "    }\n",
              "\n",
              "    .dataframe tbody tr th {\n",
              "        vertical-align: top;\n",
              "    }\n",
              "\n",
              "    .dataframe thead th {\n",
              "        text-align: right;\n",
              "    }\n",
              "</style>\n",
              "<table border=\"1\" class=\"dataframe\">\n",
              "  <thead>\n",
              "    <tr style=\"text-align: right;\">\n",
              "      <th></th>\n",
              "      <th>Image</th>\n",
              "      <th>Id</th>\n",
              "    </tr>\n",
              "  </thead>\n",
              "  <tbody>\n",
              "    <tr>\n",
              "      <th>0</th>\n",
              "      <td>0000e88ab.jpg</td>\n",
              "      <td>w_f48451c</td>\n",
              "    </tr>\n",
              "    <tr>\n",
              "      <th>1</th>\n",
              "      <td>0001f9222.jpg</td>\n",
              "      <td>w_c3d896a</td>\n",
              "    </tr>\n",
              "    <tr>\n",
              "      <th>2</th>\n",
              "      <td>00029d126.jpg</td>\n",
              "      <td>w_20df2c5</td>\n",
              "    </tr>\n",
              "    <tr>\n",
              "      <th>3</th>\n",
              "      <td>00050a15a.jpg</td>\n",
              "      <td>new_whale</td>\n",
              "    </tr>\n",
              "    <tr>\n",
              "      <th>4</th>\n",
              "      <td>0005c1ef8.jpg</td>\n",
              "      <td>new_whale</td>\n",
              "    </tr>\n",
              "  </tbody>\n",
              "</table>\n",
              "</div>\n",
              "      <button class=\"colab-df-convert\" onclick=\"convertToInteractive('df-26bc4ea1-56d3-4b03-bbab-60d4688c64b6')\"\n",
              "              title=\"Convert this dataframe to an interactive table.\"\n",
              "              style=\"display:none;\">\n",
              "        \n",
              "  <svg xmlns=\"http://www.w3.org/2000/svg\" height=\"24px\"viewBox=\"0 0 24 24\"\n",
              "       width=\"24px\">\n",
              "    <path d=\"M0 0h24v24H0V0z\" fill=\"none\"/>\n",
              "    <path d=\"M18.56 5.44l.94 2.06.94-2.06 2.06-.94-2.06-.94-.94-2.06-.94 2.06-2.06.94zm-11 1L8.5 8.5l.94-2.06 2.06-.94-2.06-.94L8.5 2.5l-.94 2.06-2.06.94zm10 10l.94 2.06.94-2.06 2.06-.94-2.06-.94-.94-2.06-.94 2.06-2.06.94z\"/><path d=\"M17.41 7.96l-1.37-1.37c-.4-.4-.92-.59-1.43-.59-.52 0-1.04.2-1.43.59L10.3 9.45l-7.72 7.72c-.78.78-.78 2.05 0 2.83L4 21.41c.39.39.9.59 1.41.59.51 0 1.02-.2 1.41-.59l7.78-7.78 2.81-2.81c.8-.78.8-2.07 0-2.86zM5.41 20L4 18.59l7.72-7.72 1.47 1.35L5.41 20z\"/>\n",
              "  </svg>\n",
              "      </button>\n",
              "      \n",
              "  <style>\n",
              "    .colab-df-container {\n",
              "      display:flex;\n",
              "      flex-wrap:wrap;\n",
              "      gap: 12px;\n",
              "    }\n",
              "\n",
              "    .colab-df-convert {\n",
              "      background-color: #E8F0FE;\n",
              "      border: none;\n",
              "      border-radius: 50%;\n",
              "      cursor: pointer;\n",
              "      display: none;\n",
              "      fill: #1967D2;\n",
              "      height: 32px;\n",
              "      padding: 0 0 0 0;\n",
              "      width: 32px;\n",
              "    }\n",
              "\n",
              "    .colab-df-convert:hover {\n",
              "      background-color: #E2EBFA;\n",
              "      box-shadow: 0px 1px 2px rgba(60, 64, 67, 0.3), 0px 1px 3px 1px rgba(60, 64, 67, 0.15);\n",
              "      fill: #174EA6;\n",
              "    }\n",
              "\n",
              "    [theme=dark] .colab-df-convert {\n",
              "      background-color: #3B4455;\n",
              "      fill: #D2E3FC;\n",
              "    }\n",
              "\n",
              "    [theme=dark] .colab-df-convert:hover {\n",
              "      background-color: #434B5C;\n",
              "      box-shadow: 0px 1px 3px 1px rgba(0, 0, 0, 0.15);\n",
              "      filter: drop-shadow(0px 1px 2px rgba(0, 0, 0, 0.3));\n",
              "      fill: #FFFFFF;\n",
              "    }\n",
              "  </style>\n",
              "\n",
              "      <script>\n",
              "        const buttonEl =\n",
              "          document.querySelector('#df-26bc4ea1-56d3-4b03-bbab-60d4688c64b6 button.colab-df-convert');\n",
              "        buttonEl.style.display =\n",
              "          google.colab.kernel.accessAllowed ? 'block' : 'none';\n",
              "\n",
              "        async function convertToInteractive(key) {\n",
              "          const element = document.querySelector('#df-26bc4ea1-56d3-4b03-bbab-60d4688c64b6');\n",
              "          const dataTable =\n",
              "            await google.colab.kernel.invokeFunction('convertToInteractive',\n",
              "                                                     [key], {});\n",
              "          if (!dataTable) return;\n",
              "\n",
              "          const docLinkHtml = 'Like what you see? Visit the ' +\n",
              "            '<a target=\"_blank\" href=https://colab.research.google.com/notebooks/data_table.ipynb>data table notebook</a>'\n",
              "            + ' to learn more about interactive tables.';\n",
              "          element.innerHTML = '';\n",
              "          dataTable['output_type'] = 'display_data';\n",
              "          await google.colab.output.renderOutput(dataTable, element);\n",
              "          const docLink = document.createElement('div');\n",
              "          docLink.innerHTML = docLinkHtml;\n",
              "          element.appendChild(docLink);\n",
              "        }\n",
              "      </script>\n",
              "    </div>\n",
              "  </div>\n",
              "  "
            ],
            "text/plain": [
              "           Image         Id\n",
              "0  0000e88ab.jpg  w_f48451c\n",
              "1  0001f9222.jpg  w_c3d896a\n",
              "2  00029d126.jpg  w_20df2c5\n",
              "3  00050a15a.jpg  new_whale\n",
              "4  0005c1ef8.jpg  new_whale"
            ]
          },
          "metadata": {},
          "execution_count": 526
        }
      ]
    },
    {
      "cell_type": "code",
      "source": [
        "# tail funtion gives the last 5 rows of datasets\n",
        "train.tail()"
      ],
      "metadata": {
        "id": "WGNCK2JujVlc",
        "colab": {
          "base_uri": "https://localhost:8080/",
          "height": 206
        },
        "outputId": "d1afc8bb-22f7-44e3-bfa5-186dfb2c6b4d"
      },
      "execution_count": 527,
      "outputs": [
        {
          "output_type": "execute_result",
          "data": {
            "text/html": [
              "\n",
              "  <div id=\"df-68a632d8-9166-4794-a8f4-b499bca82980\">\n",
              "    <div class=\"colab-df-container\">\n",
              "      <div>\n",
              "<style scoped>\n",
              "    .dataframe tbody tr th:only-of-type {\n",
              "        vertical-align: middle;\n",
              "    }\n",
              "\n",
              "    .dataframe tbody tr th {\n",
              "        vertical-align: top;\n",
              "    }\n",
              "\n",
              "    .dataframe thead th {\n",
              "        text-align: right;\n",
              "    }\n",
              "</style>\n",
              "<table border=\"1\" class=\"dataframe\">\n",
              "  <thead>\n",
              "    <tr style=\"text-align: right;\">\n",
              "      <th></th>\n",
              "      <th>Image</th>\n",
              "      <th>Id</th>\n",
              "    </tr>\n",
              "  </thead>\n",
              "  <tbody>\n",
              "    <tr>\n",
              "      <th>4995</th>\n",
              "      <td>333dad83a.jpg</td>\n",
              "      <td>new_whale</td>\n",
              "    </tr>\n",
              "    <tr>\n",
              "      <th>4996</th>\n",
              "      <td>333dd71a9.jpg</td>\n",
              "      <td>new_whale</td>\n",
              "    </tr>\n",
              "    <tr>\n",
              "      <th>4997</th>\n",
              "      <td>333e5a851.jpg</td>\n",
              "      <td>new_whale</td>\n",
              "    </tr>\n",
              "    <tr>\n",
              "      <th>4998</th>\n",
              "      <td>33402fb91.jpg</td>\n",
              "      <td>w_c073f96</td>\n",
              "    </tr>\n",
              "    <tr>\n",
              "      <th>4999</th>\n",
              "      <td>3341fc105.jpg</td>\n",
              "      <td>w_4bbd0fd</td>\n",
              "    </tr>\n",
              "  </tbody>\n",
              "</table>\n",
              "</div>\n",
              "      <button class=\"colab-df-convert\" onclick=\"convertToInteractive('df-68a632d8-9166-4794-a8f4-b499bca82980')\"\n",
              "              title=\"Convert this dataframe to an interactive table.\"\n",
              "              style=\"display:none;\">\n",
              "        \n",
              "  <svg xmlns=\"http://www.w3.org/2000/svg\" height=\"24px\"viewBox=\"0 0 24 24\"\n",
              "       width=\"24px\">\n",
              "    <path d=\"M0 0h24v24H0V0z\" fill=\"none\"/>\n",
              "    <path d=\"M18.56 5.44l.94 2.06.94-2.06 2.06-.94-2.06-.94-.94-2.06-.94 2.06-2.06.94zm-11 1L8.5 8.5l.94-2.06 2.06-.94-2.06-.94L8.5 2.5l-.94 2.06-2.06.94zm10 10l.94 2.06.94-2.06 2.06-.94-2.06-.94-.94-2.06-.94 2.06-2.06.94z\"/><path d=\"M17.41 7.96l-1.37-1.37c-.4-.4-.92-.59-1.43-.59-.52 0-1.04.2-1.43.59L10.3 9.45l-7.72 7.72c-.78.78-.78 2.05 0 2.83L4 21.41c.39.39.9.59 1.41.59.51 0 1.02-.2 1.41-.59l7.78-7.78 2.81-2.81c.8-.78.8-2.07 0-2.86zM5.41 20L4 18.59l7.72-7.72 1.47 1.35L5.41 20z\"/>\n",
              "  </svg>\n",
              "      </button>\n",
              "      \n",
              "  <style>\n",
              "    .colab-df-container {\n",
              "      display:flex;\n",
              "      flex-wrap:wrap;\n",
              "      gap: 12px;\n",
              "    }\n",
              "\n",
              "    .colab-df-convert {\n",
              "      background-color: #E8F0FE;\n",
              "      border: none;\n",
              "      border-radius: 50%;\n",
              "      cursor: pointer;\n",
              "      display: none;\n",
              "      fill: #1967D2;\n",
              "      height: 32px;\n",
              "      padding: 0 0 0 0;\n",
              "      width: 32px;\n",
              "    }\n",
              "\n",
              "    .colab-df-convert:hover {\n",
              "      background-color: #E2EBFA;\n",
              "      box-shadow: 0px 1px 2px rgba(60, 64, 67, 0.3), 0px 1px 3px 1px rgba(60, 64, 67, 0.15);\n",
              "      fill: #174EA6;\n",
              "    }\n",
              "\n",
              "    [theme=dark] .colab-df-convert {\n",
              "      background-color: #3B4455;\n",
              "      fill: #D2E3FC;\n",
              "    }\n",
              "\n",
              "    [theme=dark] .colab-df-convert:hover {\n",
              "      background-color: #434B5C;\n",
              "      box-shadow: 0px 1px 3px 1px rgba(0, 0, 0, 0.15);\n",
              "      filter: drop-shadow(0px 1px 2px rgba(0, 0, 0, 0.3));\n",
              "      fill: #FFFFFF;\n",
              "    }\n",
              "  </style>\n",
              "\n",
              "      <script>\n",
              "        const buttonEl =\n",
              "          document.querySelector('#df-68a632d8-9166-4794-a8f4-b499bca82980 button.colab-df-convert');\n",
              "        buttonEl.style.display =\n",
              "          google.colab.kernel.accessAllowed ? 'block' : 'none';\n",
              "\n",
              "        async function convertToInteractive(key) {\n",
              "          const element = document.querySelector('#df-68a632d8-9166-4794-a8f4-b499bca82980');\n",
              "          const dataTable =\n",
              "            await google.colab.kernel.invokeFunction('convertToInteractive',\n",
              "                                                     [key], {});\n",
              "          if (!dataTable) return;\n",
              "\n",
              "          const docLinkHtml = 'Like what you see? Visit the ' +\n",
              "            '<a target=\"_blank\" href=https://colab.research.google.com/notebooks/data_table.ipynb>data table notebook</a>'\n",
              "            + ' to learn more about interactive tables.';\n",
              "          element.innerHTML = '';\n",
              "          dataTable['output_type'] = 'display_data';\n",
              "          await google.colab.output.renderOutput(dataTable, element);\n",
              "          const docLink = document.createElement('div');\n",
              "          docLink.innerHTML = docLinkHtml;\n",
              "          element.appendChild(docLink);\n",
              "        }\n",
              "      </script>\n",
              "    </div>\n",
              "  </div>\n",
              "  "
            ],
            "text/plain": [
              "              Image         Id\n",
              "4995  333dad83a.jpg  new_whale\n",
              "4996  333dd71a9.jpg  new_whale\n",
              "4997  333e5a851.jpg  new_whale\n",
              "4998  33402fb91.jpg  w_c073f96\n",
              "4999  3341fc105.jpg  w_4bbd0fd"
            ]
          },
          "metadata": {},
          "execution_count": 527
        }
      ]
    },
    {
      "cell_type": "code",
      "source": [
        "# put labels into y_train variable\n",
        "y_train = train['Id']\n",
        "# Drop the 'Id' column\n",
        "X_train = train.drop(labels = ['Id'], axis = 1)\n",
        "y_train.head()"
      ],
      "metadata": {
        "id": "Cx4r9PQljVim",
        "colab": {
          "base_uri": "https://localhost:8080/"
        },
        "outputId": "c6e02cc1-814c-4ab3-ee90-2815882c92fd"
      },
      "execution_count": 528,
      "outputs": [
        {
          "output_type": "execute_result",
          "data": {
            "text/plain": [
              "0    w_f48451c\n",
              "1    w_c3d896a\n",
              "2    w_20df2c5\n",
              "3    new_whale\n",
              "4    new_whale\n",
              "Name: Id, dtype: object"
            ]
          },
          "metadata": {},
          "execution_count": 528
        }
      ]
    },
    {
      "cell_type": "code",
      "source": [
        "# Look for empty values\n",
        "train.isnull().sum()"
      ],
      "metadata": {
        "id": "BuKTca1Sje67",
        "colab": {
          "base_uri": "https://localhost:8080/"
        },
        "outputId": "1b2f4eb8-fa8f-4e81-ce3a-b300e39d898f"
      },
      "execution_count": 529,
      "outputs": [
        {
          "output_type": "execute_result",
          "data": {
            "text/plain": [
              "Image    0\n",
              "Id       0\n",
              "dtype: int64"
            ]
          },
          "metadata": {},
          "execution_count": 529
        }
      ]
    },
    {
      "cell_type": "code",
      "source": [
        "# importing the libraries for image preprocessing\n",
        "from keras.preprocessing import image\n",
        "from keras.applications.imagenet_utils import preprocess_input"
      ],
      "metadata": {
        "id": "MQHSg6ssje3d"
      },
      "execution_count": 530,
      "outputs": []
    },
    {
      "cell_type": "code",
      "source": [
        "def prepare_images(data, line_count, path):\n",
        "    \n",
        "    X_images = np.zeros((line_count, 100, 100, 3))\n",
        "    count = 0\n",
        "    \n",
        "    for fig in data['Image']:\n",
        "        \n",
        "        #load images into images of size 100x100x3\n",
        "        img = image.load_img(path+'/'+fig, target_size=(100, 100, 3))\n",
        "        x = image.img_to_array(img)\n",
        "        x = preprocess_input(x)\n",
        "\n",
        "        X_images[count] = x\n",
        "        if (count%500 == 0):\n",
        "            print('Processing image: ', count+1, \", \", fig)\n",
        "        count += 1\n",
        "    \n",
        "    return X_images"
      ],
      "metadata": {
        "id": "6bdk8IyKjey2"
      },
      "execution_count": 531,
      "outputs": []
    },
    {
      "cell_type": "code",
      "source": [
        "X_train = prepare_images(X_train, X_train.shape[0], 'train')"
      ],
      "metadata": {
        "id": "cOK4HJWQjewP",
        "colab": {
          "base_uri": "https://localhost:8080/"
        },
        "outputId": "b8c98dfc-d050-490f-b02b-023391a6f25c"
      },
      "execution_count": 532,
      "outputs": [
        {
          "output_type": "stream",
          "name": "stdout",
          "text": [
            "Processing image:  1 ,  0000e88ab.jpg\n",
            "Processing image:  501 ,  04c72257b.jpg\n",
            "Processing image:  1001 ,  09cacb84d.jpg\n",
            "Processing image:  1501 ,  0ef961892.jpg\n",
            "Processing image:  2001 ,  141b56a1a.jpg\n",
            "Processing image:  2501 ,  199a417aa.jpg\n",
            "Processing image:  3001 ,  1ec170983.jpg\n",
            "Processing image:  3501 ,  23f084b93.jpg\n",
            "Processing image:  4001 ,  29163ad0b.jpg\n",
            "Processing image:  4501 ,  2e0fab120.jpg\n"
          ]
        }
      ]
    },
    {
      "cell_type": "code",
      "source": [
        "X_train = X_train / 255.0 \n",
        "# rescaling the dataset \n",
        "# dividing an image by 255 simply rescales the image from 0-255 to 0-1.\n",
        "# (Converting it to float from int makes computation convenient too) \n",
        "print('X_train shape: ', X_train.shape)"
      ],
      "metadata": {
        "id": "V5abiP4StQv-",
        "colab": {
          "base_uri": "https://localhost:8080/"
        },
        "outputId": "99714b46-b829-4374-c470-d222ac2d239e"
      },
      "execution_count": 533,
      "outputs": [
        {
          "output_type": "stream",
          "name": "stdout",
          "text": [
            "X_train shape:  (5000, 100, 100, 3)\n"
          ]
        }
      ]
    },
    {
      "cell_type": "code",
      "source": [
        "# Checking example input image\n",
        "plt.imshow(X_train[0][:,:,0], cmap='gray')\n",
        "plt.title(plt.title(train.iloc[0,0]))\n",
        "plt.axis('off')\n",
        "plt.show()"
      ],
      "metadata": {
        "id": "OAeN_90RtTJP",
        "colab": {
          "base_uri": "https://localhost:8080/",
          "height": 264
        },
        "outputId": "de0d83ed-5de0-4c4f-8e09-969924279164"
      },
      "execution_count": 534,
      "outputs": [
        {
          "output_type": "display_data",
          "data": {
            "image/png": "[encoded data removed]",
            "text/plain": [
              "<Figure size 432x288 with 1 Axes>"
            ]
          },
          "metadata": {
            "needs_background": "light"
          }
        }
      ]
    },
    {
      "cell_type": "code",
      "source": [
        "from sklearn.preprocessing import LabelEncoder\n",
        "label_encoder = LabelEncoder()"
      ],
      "metadata": {
        "id": "_OeDCupwtU5C"
      },
      "execution_count": 535,
      "outputs": []
    },
    {
      "cell_type": "code",
      "source": [
        "#Fit label encoder and return encoded labels.\n",
        "y_train = label_encoder.fit_transform(y_train)"
      ],
      "metadata": {
        "id": "EgihrlwotWLc"
      },
      "execution_count": 536,
      "outputs": []
    },
    {
      "cell_type": "code",
      "source": [
        "# let's look at first 10 values\n",
        "y_train[0:10]"
      ],
      "metadata": {
        "id": "M8_8SiivtXjT",
        "colab": {
          "base_uri": "https://localhost:8080/"
        },
        "outputId": "f04b2941-f3fe-473d-94f9-d5eea2c0205a"
      },
      "execution_count": 537,
      "outputs": [
        {
          "output_type": "execute_result",
          "data": {
            "text/plain": [
              "array([1875, 1505,  248,    0,    0,    0, 1692,    0,  730, 1277])"
            ]
          },
          "metadata": {},
          "execution_count": 537
        }
      ]
    },
    {
      "cell_type": "code",
      "source": [
        "# finding shape of y_train data\n",
        "y_train.shape"
      ],
      "metadata": {
        "id": "HQGiuSuQtY7l",
        "colab": {
          "base_uri": "https://localhost:8080/"
        },
        "outputId": "aa0bcbf1-f705-4deb-9879-96916d74d14f"
      },
      "execution_count": 538,
      "outputs": [
        {
          "output_type": "execute_result",
          "data": {
            "text/plain": [
              "(5000,)"
            ]
          },
          "metadata": {},
          "execution_count": 538
        }
      ]
    },
    {
      "cell_type": "code",
      "source": [
        "y_train_class_count = len(set(y_train))\n",
        "y_train_class_count"
      ],
      "metadata": {
        "colab": {
          "base_uri": "https://localhost:8080/"
        },
        "id": "R5ql1ngMyAH0",
        "outputId": "d2f33c87-9c75-495e-fe33-20ebb05baf68"
      },
      "execution_count": 539,
      "outputs": [
        {
          "output_type": "execute_result",
          "data": {
            "text/plain": [
              "1961"
            ]
          },
          "metadata": {},
          "execution_count": 539
        }
      ]
    },
    {
      "cell_type": "code",
      "source": [
        "# convert to one-hot-encoding\n",
        "\n",
        "from keras.utils.np_utils import to_categorical\n",
        "y_train = to_categorical(y_train, num_classes = y_train_class_count)"
      ],
      "metadata": {
        "id": "4RKnWoqGtdcK"
      },
      "execution_count": 540,
      "outputs": []
    },
    {
      "cell_type": "code",
      "source": [
        "y_train"
      ],
      "metadata": {
        "id": "gXb6eM2Tte9S",
        "colab": {
          "base_uri": "https://localhost:8080/"
        },
        "outputId": "db331374-718e-4762-e6cc-9cca723d95e6"
      },
      "execution_count": 541,
      "outputs": [
        {
          "output_type": "execute_result",
          "data": {
            "text/plain": [
              "array([[0., 0., 0., ..., 0., 0., 0.],\n",
              "       [0., 0., 0., ..., 0., 0., 0.],\n",
              "       [0., 0., 0., ..., 0., 0., 0.],\n",
              "       ...,\n",
              "       [1., 0., 0., ..., 0., 0., 0.],\n",
              "       [0., 0., 0., ..., 0., 0., 0.],\n",
              "       [0., 0., 0., ..., 0., 0., 0.]], dtype=float32)"
            ]
          },
          "metadata": {},
          "execution_count": 541
        }
      ]
    },
    {
      "cell_type": "code",
      "source": [
        "from keras.utils.np_utils import to_categorical # convert to one-hot-encoding\n",
        "from keras.models import Sequential # to create a cnn model\n",
        "from keras.layers import Dense, Dropout, Flatten, Conv2D, MaxPool2D\n",
        "from tensorflow.keras.optimizers import RMSprop, Adam\n",
        "from keras.layers import BatchNormalization\n",
        "from keras.preprocessing.image import ImageDataGenerator\n",
        "from keras.callbacks import ReduceLROnPlateau"
      ],
      "metadata": {
        "id": "sPSY2Wirtf6H"
      },
      "execution_count": 542,
      "outputs": []
    },
    {
      "cell_type": "code",
      "source": [
        "model = Sequential()\n",
        "\n",
        "model.add(Conv2D(filters = 16, kernel_size = (3,3), padding = 'Same', activation = 'relu', input_shape = (100,100,3)))\n",
        "model.add(Conv2D(filters = 16, kernel_size = (3,3), padding = 'Same', activation = 'relu'))\n",
        "model.add(MaxPool2D(pool_size = (2,2)))\n",
        "model.add(BatchNormalization())\n",
        "\n",
        "model.add(Conv2D(filters = 32, kernel_size = (3,3), padding = 'Same', activation = 'relu'))\n",
        "model.add(Conv2D(filters = 32, kernel_size = (3,3), padding = 'Same', activation = 'relu'))\n",
        "model.add(MaxPool2D(pool_size = (2,2), strides=(2,2)))\n",
        "model.add(Dropout(0.25))\n",
        "\n",
        "model.add(Conv2D(filters = 64, kernel_size = (3,3), padding = 'Same', activation = 'relu'))\n",
        "model.add(Conv2D(filters = 64, kernel_size = (3,3), padding = 'Same', activation = 'relu'))\n",
        "model.add(MaxPool2D(pool_size = (2,2), strides=(2,2)))\n",
        "model.add(BatchNormalization())\n",
        "\n",
        "# fully connected\n",
        "model.add(Flatten())\n",
        "model.add(Dense(256, activation = 'relu'))\n",
        "model.add(BatchNormalization())\n",
        "model.add(Dense(y_train.shape[1], activation = 'softmax'))"
      ],
      "metadata": {
        "id": "3Kl0sMH3thEK"
      },
      "execution_count": 559,
      "outputs": []
    },
    {
      "cell_type": "code",
      "source": [
        "#Provides the summary of model we created\n",
        "model.summary()"
      ],
      "metadata": {
        "id": "HwSKF--ZtjM9",
        "colab": {
          "base_uri": "https://localhost:8080/"
        },
        "outputId": "ca499409-77b7-4837-a347-7b29851e0850"
      },
      "execution_count": 544,
      "outputs": [
        {
          "output_type": "stream",
          "name": "stdout",
          "text": [
            "Model: \"sequential_35\"\n",
            "_________________________________________________________________\n",
            " Layer (type)                Output Shape              Param #   \n",
            "=================================================================\n",
            " conv2d_210 (Conv2D)         (None, 100, 100, 16)      448       \n",
            "                                                                 \n",
            " conv2d_211 (Conv2D)         (None, 100, 100, 16)      2320      \n",
            "                                                                 \n",
            " max_pooling2d_105 (MaxPooli  (None, 50, 50, 16)       0         \n",
            " ng2D)                                                           \n",
            "                                                                 \n",
            " batch_normalization_105 (Ba  (None, 50, 50, 16)       64        \n",
            " tchNormalization)                                               \n",
            "                                                                 \n",
            " conv2d_212 (Conv2D)         (None, 50, 50, 32)        4640      \n",
            "                                                                 \n",
            " conv2d_213 (Conv2D)         (None, 50, 50, 32)        9248      \n",
            "                                                                 \n",
            " max_pooling2d_106 (MaxPooli  (None, 25, 25, 32)       0         \n",
            " ng2D)                                                           \n",
            "                                                                 \n",
            " dropout_35 (Dropout)        (None, 25, 25, 32)        0         \n",
            "                                                                 \n",
            " conv2d_214 (Conv2D)         (None, 25, 25, 64)        18496     \n",
            "                                                                 \n",
            " conv2d_215 (Conv2D)         (None, 25, 25, 64)        36928     \n",
            "                                                                 \n",
            " max_pooling2d_107 (MaxPooli  (None, 12, 12, 64)       0         \n",
            " ng2D)                                                           \n",
            "                                                                 \n",
            " batch_normalization_106 (Ba  (None, 12, 12, 64)       256       \n",
            " tchNormalization)                                               \n",
            "                                                                 \n",
            " flatten_35 (Flatten)        (None, 9216)              0         \n",
            "                                                                 \n",
            " dense_70 (Dense)            (None, 256)               2359552   \n",
            "                                                                 \n",
            " batch_normalization_107 (Ba  (None, 256)              1024      \n",
            " tchNormalization)                                               \n",
            "                                                                 \n",
            " dense_71 (Dense)            (None, 1961)              503977    \n",
            "                                                                 \n",
            "=================================================================\n",
            "Total params: 2,936,953\n",
            "Trainable params: 2,936,281\n",
            "Non-trainable params: 672\n",
            "_________________________________________________________________\n"
          ]
        }
      ]
    },
    {
      "cell_type": "code",
      "source": [
        "# Define the optimizer\n",
        "optimizer = Adam(lr = 0.001, beta_1 = 0.9, beta_2 = 0.999)"
      ],
      "metadata": {
        "id": "GL3zDzhYtjsO"
      },
      "execution_count": 560,
      "outputs": []
    },
    {
      "cell_type": "code",
      "source": [
        "# Set a learning rate scheduler\n",
        "learning_rate_reduction = ReduceLROnPlateau(monitor='loss', \n",
        "                                            patience=1, \n",
        "                                            verbose=1, \n",
        "                                            factor=0.8, \n",
        "                                            min_lr=0.00001)"
      ],
      "metadata": {
        "id": "FAeAYMc3tlM0"
      },
      "execution_count": 561,
      "outputs": []
    },
    {
      "cell_type": "code",
      "source": [
        "import tensorflow as tf\n",
        "\n",
        "class LogCallback(tf.keras.callbacks.Callback):\n",
        "  def on_epoch_end(self, epoch, logs=None):\n",
        "    print('\\n\\nTrain Loss = {}\\nValidation Loss = {}\\nEpoch =  {}\\n'.format(logs['loss'], logs['val_loss'], epoch))"
      ],
      "metadata": {
        "id": "GM-KPHTxEJcP"
      },
      "execution_count": 547,
      "outputs": []
    },
    {
      "cell_type": "code",
      "source": [
        "model.compile(optimizer = optimizer, loss = 'categorical_crossentropy', metrics=['accuracy'])"
      ],
      "metadata": {
        "id": "6_x2cuiStmmQ"
      },
      "execution_count": 562,
      "outputs": []
    },
    {
      "cell_type": "code",
      "source": [
        "# With data augmentation to prevent overfitting\n",
        "\n",
        "datagen = ImageDataGenerator(\n",
        "        featurewise_center=False,  # set input mean to 0 over the dataset\n",
        "        samplewise_center=False,  # set each sample mean to 0\n",
        "        featurewise_std_normalization=False,  # divide inputs by std of the dataset\n",
        "        samplewise_std_normalization=False,  # divide each input by its std\n",
        "        zca_whitening=False,  # apply ZCA whitening\n",
        "        rotation_range=10,  # randomly rotate images in the range (degrees, 0 to 180)\n",
        "        zoom_range = 0.1, # Randomly zoom image \n",
        "        width_shift_range=0.1,  # randomly shift images horizontally (fraction of total width)\n",
        "        height_shift_range=0.1,  # randomly shift images vertically (fraction of total height)\n",
        "        horizontal_flip=False,  # randomly flip images horizontally\n",
        "        vertical_flip=False, # randomly flip images vertically\n",
        "        validation_split=0.3)  \n",
        "\n",
        "\n",
        "datagen.fit(X_train)"
      ],
      "metadata": {
        "id": "v-kgUNDjtnsM"
      },
      "execution_count": 563,
      "outputs": []
    },
    {
      "cell_type": "code",
      "source": [
        "# epochs = 50  # for better result increase the number of epochs\n",
        "batch_size = 64"
      ],
      "metadata": {
        "id": "7veCKR_9ttv7"
      },
      "execution_count": 564,
      "outputs": []
    },
    {
      "cell_type": "code",
      "source": [
        "train_generator = datagen.flow_from_dataframe(\n",
        "    dataframe=train,\n",
        "    directory='train',\n",
        "    x_col='Image',\n",
        "    y_col='Id',\n",
        "    target_size=(100, 100),\n",
        "    batch_size=batch_size,\n",
        "    subset='training',\n",
        "    class_mode='categorical') # set as training data\n",
        "\n",
        "validation_generator = datagen.flow_from_dataframe(\n",
        "    dataframe=train,\n",
        "    directory='train',\n",
        "    x_col='Image',\n",
        "    y_col='Id',\n",
        "    target_size=(100, 100),\n",
        "    batch_size=batch_size,\n",
        "    subset='validation',\n",
        "    class_mode='categorical') # set as validation data"
      ],
      "metadata": {
        "colab": {
          "base_uri": "https://localhost:8080/"
        },
        "id": "3QBahyIyNVn2",
        "outputId": "7f6ab773-756f-4a8b-e8bc-dde1317d5fa3"
      },
      "execution_count": 565,
      "outputs": [
        {
          "output_type": "stream",
          "name": "stdout",
          "text": [
            "Found 3500 validated image filenames belonging to 1961 classes.\n",
            "Found 1500 validated image filenames belonging to 1961 classes.\n"
          ]
        }
      ]
    },
    {
      "cell_type": "code",
      "source": [
        "model_history = model.fit(x_train, y_train, epochs=40, validation_split=0.3, callbacks=[learning_rate_reduction])"
      ],
      "metadata": {
        "colab": {
          "base_uri": "https://localhost:8080/"
        },
        "id": "N2gZ07FZzX-a",
        "outputId": "0a57b6ce-639e-4232-c862-bffa28e5d249"
      },
      "execution_count": 261,
      "outputs": [
        {
          "output_type": "stream",
          "name": "stdout",
          "text": [
            "Epoch 1/40\n",
            "219/219 [==============================] - 7s 26ms/step - loss: 7.0291 - accuracy: 0.2800 - val_loss: 11.0858 - val_accuracy: 0.0010 - lr: 0.0010\n",
            "Epoch 2/40\n",
            "219/219 [==============================] - 5s 21ms/step - loss: 5.3166 - accuracy: 0.3759 - val_loss: 6.4964 - val_accuracy: 0.3607 - lr: 0.0010\n",
            "Epoch 3/40\n",
            "219/219 [==============================] - 5s 21ms/step - loss: 4.7076 - accuracy: 0.3840 - val_loss: 6.8947 - val_accuracy: 0.3590 - lr: 0.0010\n",
            "Epoch 4/40\n",
            "219/219 [==============================] - 5s 21ms/step - loss: 4.1417 - accuracy: 0.3841 - val_loss: 6.8973 - val_accuracy: 0.3620 - lr: 0.0010\n",
            "Epoch 5/40\n",
            "219/219 [==============================] - 5s 21ms/step - loss: 3.5139 - accuracy: 0.3926 - val_loss: 7.2103 - val_accuracy: 0.3457 - lr: 0.0010\n",
            "Epoch 6/40\n",
            "219/219 [==============================] - 5s 24ms/step - loss: 2.8240 - accuracy: 0.4330 - val_loss: 7.4187 - val_accuracy: 0.3293 - lr: 0.0010\n",
            "Epoch 7/40\n",
            "219/219 [==============================] - 5s 22ms/step - loss: 2.0585 - accuracy: 0.5511 - val_loss: 7.6799 - val_accuracy: 0.2817 - lr: 0.0010\n",
            "Epoch 8/40\n",
            "219/219 [==============================] - 5s 22ms/step - loss: 1.3218 - accuracy: 0.7130 - val_loss: 8.0624 - val_accuracy: 0.3057 - lr: 0.0010\n",
            "Epoch 9/40\n",
            "219/219 [==============================] - 5s 23ms/step - loss: 0.7234 - accuracy: 0.8537 - val_loss: 8.5763 - val_accuracy: 0.3097 - lr: 0.0010\n",
            "Epoch 10/40\n",
            "219/219 [==============================] - 5s 23ms/step - loss: 0.3698 - accuracy: 0.9361 - val_loss: 8.8337 - val_accuracy: 0.2977 - lr: 0.0010\n",
            "Epoch 11/40\n",
            "219/219 [==============================] - 5s 22ms/step - loss: 0.1854 - accuracy: 0.9724 - val_loss: 9.0557 - val_accuracy: 0.2823 - lr: 0.0010\n",
            "Epoch 12/40\n",
            "219/219 [==============================] - 5s 22ms/step - loss: 0.1006 - accuracy: 0.9891 - val_loss: 8.7753 - val_accuracy: 0.2867 - lr: 0.0010\n",
            "Epoch 13/40\n",
            "219/219 [==============================] - 5s 22ms/step - loss: 0.0738 - accuracy: 0.9910 - val_loss: 9.3846 - val_accuracy: 0.3177 - lr: 0.0010\n",
            "Epoch 14/40\n",
            "219/219 [==============================] - 5s 22ms/step - loss: 0.0499 - accuracy: 0.9956 - val_loss: 9.0307 - val_accuracy: 0.3003 - lr: 0.0010\n",
            "Epoch 15/40\n",
            "219/219 [==============================] - 5s 22ms/step - loss: 0.0304 - accuracy: 0.9977 - val_loss: 9.0994 - val_accuracy: 0.3080 - lr: 0.0010\n",
            "Epoch 16/40\n",
            "219/219 [==============================] - 5s 22ms/step - loss: 0.0249 - accuracy: 0.9983 - val_loss: 9.6623 - val_accuracy: 0.3170 - lr: 0.0010\n",
            "Epoch 17/40\n",
            "217/219 [============================>.] - ETA: 0s - loss: 0.0262 - accuracy: 0.9970\n",
            "Epoch 00017: ReduceLROnPlateau reducing learning rate to 0.0005000000237487257.\n",
            "219/219 [==============================] - 5s 22ms/step - loss: 0.0262 - accuracy: 0.9970 - val_loss: 9.3099 - val_accuracy: 0.3043 - lr: 0.0010\n",
            "Epoch 18/40\n",
            "219/219 [==============================] - 5s 23ms/step - loss: 0.0151 - accuracy: 0.9991 - val_loss: 9.2622 - val_accuracy: 0.3087 - lr: 5.0000e-04\n",
            "Epoch 19/40\n",
            "219/219 [==============================] - 6s 25ms/step - loss: 0.0101 - accuracy: 1.0000 - val_loss: 9.5701 - val_accuracy: 0.3180 - lr: 5.0000e-04\n",
            "Epoch 20/40\n",
            "219/219 [==============================] - 5s 23ms/step - loss: 0.0086 - accuracy: 1.0000 - val_loss: 9.3903 - val_accuracy: 0.3103 - lr: 5.0000e-04\n",
            "Epoch 21/40\n",
            "217/219 [============================>.] - ETA: 0s - loss: 0.0086 - accuracy: 0.9997\n",
            "Epoch 00021: ReduceLROnPlateau reducing learning rate to 0.0002500000118743628.\n",
            "219/219 [==============================] - 5s 22ms/step - loss: 0.0088 - accuracy: 0.9997 - val_loss: 9.4227 - val_accuracy: 0.3073 - lr: 5.0000e-04\n",
            "Epoch 22/40\n",
            "219/219 [==============================] - 5s 22ms/step - loss: 0.0067 - accuracy: 0.9999 - val_loss: 9.4663 - val_accuracy: 0.3120 - lr: 2.5000e-04\n",
            "Epoch 23/40\n",
            "219/219 [==============================] - 5s 22ms/step - loss: 0.0059 - accuracy: 1.0000 - val_loss: 9.4365 - val_accuracy: 0.3093 - lr: 2.5000e-04\n",
            "Epoch 24/40\n",
            "219/219 [==============================] - 5s 22ms/step - loss: 0.0051 - accuracy: 1.0000 - val_loss: 9.4843 - val_accuracy: 0.3123 - lr: 2.5000e-04\n",
            "Epoch 25/40\n",
            "219/219 [==============================] - 5s 22ms/step - loss: 0.0042 - accuracy: 1.0000 - val_loss: 9.5279 - val_accuracy: 0.3130 - lr: 2.5000e-04\n",
            "Epoch 26/40\n",
            "217/219 [============================>.] - ETA: 0s - loss: 0.0041 - accuracy: 1.0000\n",
            "Epoch 00026: ReduceLROnPlateau reducing learning rate to 0.0001250000059371814.\n",
            "219/219 [==============================] - 5s 22ms/step - loss: 0.0041 - accuracy: 1.0000 - val_loss: 9.4094 - val_accuracy: 0.3147 - lr: 2.5000e-04\n",
            "Epoch 27/40\n",
            "219/219 [==============================] - 5s 22ms/step - loss: 0.0039 - accuracy: 1.0000 - val_loss: 9.5763 - val_accuracy: 0.3133 - lr: 1.2500e-04\n",
            "Epoch 28/40\n",
            "219/219 [==============================] - 5s 21ms/step - loss: 0.0036 - accuracy: 1.0000 - val_loss: 9.5966 - val_accuracy: 0.3110 - lr: 1.2500e-04\n",
            "Epoch 29/40\n",
            "219/219 [==============================] - 5s 22ms/step - loss: 0.0033 - accuracy: 1.0000 - val_loss: 9.5855 - val_accuracy: 0.3117 - lr: 1.2500e-04\n",
            "Epoch 30/40\n",
            "219/219 [==============================] - 5s 24ms/step - loss: 0.0031 - accuracy: 1.0000 - val_loss: 9.5855 - val_accuracy: 0.3113 - lr: 1.2500e-04\n",
            "Epoch 31/40\n",
            "217/219 [============================>.] - ETA: 0s - loss: 0.0033 - accuracy: 1.0000\n",
            "Epoch 00031: ReduceLROnPlateau reducing learning rate to 6.25000029685907e-05.\n",
            "219/219 [==============================] - 5s 24ms/step - loss: 0.0033 - accuracy: 1.0000 - val_loss: 9.5647 - val_accuracy: 0.3137 - lr: 1.2500e-04\n",
            "Epoch 32/40\n",
            "219/219 [==============================] - 5s 24ms/step - loss: 0.0030 - accuracy: 1.0000 - val_loss: 9.6563 - val_accuracy: 0.3150 - lr: 6.2500e-05\n",
            "Epoch 33/40\n",
            "219/219 [==============================] - 5s 23ms/step - loss: 0.0029 - accuracy: 1.0000 - val_loss: 9.5580 - val_accuracy: 0.3107 - lr: 6.2500e-05\n",
            "Epoch 34/40\n",
            "218/219 [============================>.] - ETA: 0s - loss: 0.0028 - accuracy: 1.0000\n",
            "Epoch 00034: ReduceLROnPlateau reducing learning rate to 3.125000148429535e-05.\n",
            "219/219 [==============================] - 5s 23ms/step - loss: 0.0029 - accuracy: 1.0000 - val_loss: 9.5974 - val_accuracy: 0.3113 - lr: 6.2500e-05\n",
            "Epoch 35/40\n",
            "219/219 [==============================] - 5s 23ms/step - loss: 0.0028 - accuracy: 1.0000 - val_loss: 9.6434 - val_accuracy: 0.3130 - lr: 3.1250e-05\n",
            "Epoch 36/40\n",
            "219/219 [==============================] - 5s 23ms/step - loss: 0.0026 - accuracy: 1.0000 - val_loss: 9.6047 - val_accuracy: 0.3090 - lr: 3.1250e-05\n",
            "Epoch 37/40\n",
            "217/219 [============================>.] - ETA: 0s - loss: 0.0026 - accuracy: 1.0000\n",
            "Epoch 00037: ReduceLROnPlateau reducing learning rate to 1.5625000742147677e-05.\n",
            "219/219 [==============================] - 5s 23ms/step - loss: 0.0026 - accuracy: 1.0000 - val_loss: 9.6270 - val_accuracy: 0.3147 - lr: 3.1250e-05\n",
            "Epoch 38/40\n",
            "219/219 [==============================] - 5s 23ms/step - loss: 0.0024 - accuracy: 1.0000 - val_loss: 9.6043 - val_accuracy: 0.3130 - lr: 1.5625e-05\n",
            "Epoch 39/40\n",
            "217/219 [============================>.] - ETA: 0s - loss: 0.0024 - accuracy: 1.0000\n",
            "Epoch 00039: ReduceLROnPlateau reducing learning rate to 1e-05.\n",
            "219/219 [==============================] - 5s 23ms/step - loss: 0.0024 - accuracy: 1.0000 - val_loss: 9.5987 - val_accuracy: 0.3113 - lr: 1.5625e-05\n",
            "Epoch 40/40\n",
            "219/219 [==============================] - 5s 23ms/step - loss: 0.0024 - accuracy: 1.0000 - val_loss: 9.6165 - val_accuracy: 0.3137 - lr: 1.0000e-05\n"
          ]
        }
      ]
    },
    {
      "cell_type": "code",
      "source": [
        "model.summary()"
      ],
      "metadata": {
        "colab": {
          "base_uri": "https://localhost:8080/"
        },
        "id": "gDfLUUkl43eq",
        "outputId": "23bdea41-73df-409e-b375-e830df7a8cc1"
      },
      "execution_count": 370,
      "outputs": [
        {
          "output_type": "stream",
          "name": "stdout",
          "text": [
            "Model: \"sequential_26\"\n",
            "_________________________________________________________________\n",
            " Layer (type)                Output Shape              Param #   \n",
            "=================================================================\n",
            " conv2d_156 (Conv2D)         (None, 100, 100, 16)      448       \n",
            "                                                                 \n",
            " conv2d_157 (Conv2D)         (None, 100, 100, 16)      2320      \n",
            "                                                                 \n",
            " max_pooling2d_78 (MaxPoolin  (None, 50, 50, 16)       0         \n",
            " g2D)                                                            \n",
            "                                                                 \n",
            " batch_normalization_78 (Bat  (None, 50, 50, 16)       64        \n",
            " chNormalization)                                                \n",
            "                                                                 \n",
            " conv2d_158 (Conv2D)         (None, 50, 50, 32)        4640      \n",
            "                                                                 \n",
            " conv2d_159 (Conv2D)         (None, 50, 50, 32)        9248      \n",
            "                                                                 \n",
            " max_pooling2d_79 (MaxPoolin  (None, 25, 25, 32)       0         \n",
            " g2D)                                                            \n",
            "                                                                 \n",
            " dropout_26 (Dropout)        (None, 25, 25, 32)        0         \n",
            "                                                                 \n",
            " conv2d_160 (Conv2D)         (None, 25, 25, 64)        18496     \n",
            "                                                                 \n",
            " conv2d_161 (Conv2D)         (None, 25, 25, 64)        36928     \n",
            "                                                                 \n",
            " max_pooling2d_80 (MaxPoolin  (None, 12, 12, 64)       0         \n",
            " g2D)                                                            \n",
            "                                                                 \n",
            " batch_normalization_79 (Bat  (None, 12, 12, 64)       256       \n",
            " chNormalization)                                                \n",
            "                                                                 \n",
            " flatten_26 (Flatten)        (None, 9216)              0         \n",
            "                                                                 \n",
            " dense_52 (Dense)            (None, 256)               2359552   \n",
            "                                                                 \n",
            " batch_normalization_80 (Bat  (None, 256)              1024      \n",
            " chNormalization)                                                \n",
            "                                                                 \n",
            " dense_53 (Dense)            (None, 517)               132869    \n",
            "                                                                 \n",
            "=================================================================\n",
            "Total params: 2,565,845\n",
            "Trainable params: 2,565,173\n",
            "Non-trainable params: 672\n",
            "_________________________________________________________________\n"
          ]
        }
      ]
    },
    {
      "cell_type": "code",
      "source": [
        "history = model.fit_generator(train_generator,\n",
        "                              epochs=10, verbose = 2, \n",
        "                              steps_per_epoch=X_train.shape[0] // batch_size,\n",
        "                              callbacks=[learning_rate_reduction],\n",
        "                              validation_data=validation_generator)"
      ],
      "metadata": {
        "id": "mA0pNCNvtwZf",
        "colab": {
          "base_uri": "https://localhost:8080/"
        },
        "outputId": "2d5128df-e53f-46c8-e160-8962e2411339"
      },
      "execution_count": 566,
      "outputs": [
        {
          "output_type": "stream",
          "name": "stdout",
          "text": [
            "Epoch 1/10\n",
            "WARNING:tensorflow:Your input ran out of data; interrupting training. Make sure that your dataset or generator can generate at least `steps_per_epoch * epochs` batches (in this case, 1110 batches). You may need to use the repeat() function when building your dataset.\n",
            "111/111 - 50s - loss: 7.0909 - accuracy: 0.2157 - val_loss: 7.2368 - val_accuracy: 0.2713 - lr: 0.0010 - 50s/epoch - 451ms/step\n"
          ]
        }
      ]
    },
    {
      "cell_type": "code",
      "source": [
        "len(train_generator), len(validation_generator)"
      ],
      "metadata": {
        "colab": {
          "base_uri": "https://localhost:8080/"
        },
        "id": "aqNFvLEwWBux",
        "outputId": "06b0a4aa-d0f7-44fa-83bb-42135b5dd31f"
      },
      "execution_count": 558,
      "outputs": [
        {
          "output_type": "execute_result",
          "data": {
            "text/plain": [
              "(55, 24)"
            ]
          },
          "metadata": {},
          "execution_count": 558
        }
      ]
    },
    {
      "cell_type": "code",
      "source": [
        "(X_train.shape[0] // batch_size) * 10 # Augmenter le batch size"
      ],
      "metadata": {
        "colab": {
          "base_uri": "https://localhost:8080/"
        },
        "id": "x6sRgpTcVTZQ",
        "outputId": "c430facb-0b23-4ab9-f3fe-c97762584668"
      },
      "execution_count": 567,
      "outputs": [
        {
          "output_type": "execute_result",
          "data": {
            "text/plain": [
              "1110"
            ]
          },
          "metadata": {},
          "execution_count": 567
        }
      ]
    },
    {
      "cell_type": "code",
      "source": [
        "# Plot the loss curve for training\n",
        "plt.plot(history.history['loss'], color='r', label='Train Loss')\n",
        "plt.title('Train Loss')\n",
        "plt.xlabel('Number of Epochs')\n",
        "plt.ylabel(\"Loss\")\n",
        "plt.legend()\n",
        "plt.show()"
      ],
      "metadata": {
        "id": "hi0uPkPetzjl"
      },
      "execution_count": null,
      "outputs": []
    },
    {
      "cell_type": "code",
      "source": [
        "# Plot the accuracy curve for training\n",
        "plt.plot(history.history['acc'], color='g', label='Train Accuracy')\n",
        "plt.title('Train Accuracy')\n",
        "plt.xlabel('Number of Epochs')\n",
        "plt.ylabel('Accuracy')\n",
        "plt.legend()\n",
        "plt.show()"
      ],
      "metadata": {
        "id": "TIpvlQcauCkz"
      },
      "execution_count": null,
      "outputs": []
    },
    {
      "cell_type": "code",
      "source": [
        "# finding the training accuracy \n",
        "print('Train accuracy of the model: ', history.history['acc'][-1])"
      ],
      "metadata": {
        "id": "1df8zGwNuG0o"
      },
      "execution_count": null,
      "outputs": []
    },
    {
      "cell_type": "code",
      "source": [
        "# finding the training loss \n",
        "print('Train loss of the model: ',history.history['loss'][-1])"
      ],
      "metadata": {
        "id": "ObL8tMWEuJ3U"
      },
      "execution_count": null,
      "outputs": []
    }
  ]
}